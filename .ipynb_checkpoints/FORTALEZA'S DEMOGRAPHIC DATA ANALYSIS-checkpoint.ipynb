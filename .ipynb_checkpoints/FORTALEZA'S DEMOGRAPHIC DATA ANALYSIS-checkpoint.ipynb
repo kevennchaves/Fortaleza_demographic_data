{
 "cells": [
  {
   "cell_type": "markdown",
   "id": "d27f440d",
   "metadata": {},
   "source": [
    "<H1> <CENTER> FORTALEZA'S DEMOGRAPHIC DATA ANALYSIS  </CENTER> </H1>\n",
    "<H3> <CENTER> UNTIL 2010  </CENTER> </H3>\n",
    "\n",
    "<center>\n",
    "**Keven Henrique Miranda Chaves**\n",
    "<br>\n",
    "Graduando em Engenharia de computação\n",
    "<br>\n",
    "Formação de data science\n",
    "    \n",
    "</center>"
   ]
  },
  {
   "cell_type": "markdown",
   "id": "51c593d1",
   "metadata": {},
   "source": [
    "##### Importing necessaries libraries"
   ]
  },
  {
   "cell_type": "code",
   "execution_count": 855,
   "id": "8c1b7fcb",
   "metadata": {},
   "outputs": [],
   "source": [
    "%matplotlib inline\n",
    "import matplotlib.pyplot as plt \n",
    "plt.rc('figure', figsize=(15,8)) #def figsize fix\n",
    "\n",
    "import pandas as pd"
   ]
  },
  {
   "cell_type": "markdown",
   "id": "bbd517db",
   "metadata": {},
   "source": [
    "##### Dataset = Fortaleza's demographic data\n",
    "- Download in [https://dados.fortaleza.ce.gov.br/]"
   ]
  },
  {
   "cell_type": "code",
   "execution_count": 856,
   "id": "b9d71c69",
   "metadata": {},
   "outputs": [
    {
     "data": {
      "text/html": [
       "<div>\n",
       "<style scoped>\n",
       "    .dataframe tbody tr th:only-of-type {\n",
       "        vertical-align: middle;\n",
       "    }\n",
       "\n",
       "    .dataframe tbody tr th {\n",
       "        vertical-align: top;\n",
       "    }\n",
       "\n",
       "    .dataframe thead th {\n",
       "        text-align: right;\n",
       "    }\n",
       "</style>\n",
       "<table border=\"1\" class=\"dataframe\">\n",
       "  <thead>\n",
       "    <tr style=\"text-align: right;\">\n",
       "      <th></th>\n",
       "      <th>REGIONAL</th>\n",
       "      <th>Bairros</th>\n",
       "      <th>População Total</th>\n",
       "      <th>Pop. Homens</th>\n",
       "      <th>Pop. Mulheres</th>\n",
       "      <th>Razão de Sexo</th>\n",
       "      <th>População (0-14 anos)</th>\n",
       "      <th>População (15-64 anos)</th>\n",
       "      <th>População (&gt; 64 anos)</th>\n",
       "      <th>% População (0-14 anos)</th>\n",
       "      <th>% População (15-64 anos)</th>\n",
       "      <th>% População (&gt; 64 anos)</th>\n",
       "      <th>Razão de Dependência</th>\n",
       "      <th>Média de moradores por domicílio</th>\n",
       "    </tr>\n",
       "  </thead>\n",
       "  <tbody>\n",
       "    <tr>\n",
       "      <th>0</th>\n",
       "      <td>REGIONAL 6</td>\n",
       "      <td>Aerolândia</td>\n",
       "      <td>11360.0</td>\n",
       "      <td>5365.0</td>\n",
       "      <td>5995.0</td>\n",
       "      <td>89.49</td>\n",
       "      <td>2400.0</td>\n",
       "      <td>8118.0</td>\n",
       "      <td>842.0</td>\n",
       "      <td>21.13</td>\n",
       "      <td>71.46</td>\n",
       "      <td>7.41</td>\n",
       "      <td>39.94</td>\n",
       "      <td>3.45</td>\n",
       "    </tr>\n",
       "    <tr>\n",
       "      <th>1</th>\n",
       "      <td>REGIONAL 4</td>\n",
       "      <td>Aeroporto</td>\n",
       "      <td>8618.0</td>\n",
       "      <td>4160.0</td>\n",
       "      <td>4458.0</td>\n",
       "      <td>93.32</td>\n",
       "      <td>2389.0</td>\n",
       "      <td>5918.0</td>\n",
       "      <td>311.0</td>\n",
       "      <td>27.72</td>\n",
       "      <td>68.67</td>\n",
       "      <td>3.61</td>\n",
       "      <td>45.62</td>\n",
       "      <td>3.61</td>\n",
       "    </tr>\n",
       "    <tr>\n",
       "      <th>2</th>\n",
       "      <td>REGIONAL 2</td>\n",
       "      <td>Aldeota</td>\n",
       "      <td>42361.0</td>\n",
       "      <td>17980.0</td>\n",
       "      <td>24381.0</td>\n",
       "      <td>73.75</td>\n",
       "      <td>5600.0</td>\n",
       "      <td>31587.0</td>\n",
       "      <td>5174.0</td>\n",
       "      <td>13.22</td>\n",
       "      <td>74.57</td>\n",
       "      <td>12.21</td>\n",
       "      <td>34.11</td>\n",
       "      <td>3.08</td>\n",
       "    </tr>\n",
       "    <tr>\n",
       "      <th>3</th>\n",
       "      <td>REGIONAL 6</td>\n",
       "      <td>Alto da Balança</td>\n",
       "      <td>12814.0</td>\n",
       "      <td>5930.0</td>\n",
       "      <td>6884.0</td>\n",
       "      <td>86.14</td>\n",
       "      <td>2709.0</td>\n",
       "      <td>8941.0</td>\n",
       "      <td>1164.0</td>\n",
       "      <td>21.14</td>\n",
       "      <td>69.78</td>\n",
       "      <td>9.08</td>\n",
       "      <td>43.32</td>\n",
       "      <td>3.39</td>\n",
       "    </tr>\n",
       "    <tr>\n",
       "      <th>4</th>\n",
       "      <td>REGIONAL 1</td>\n",
       "      <td>Álvaro Weyne</td>\n",
       "      <td>23690.0</td>\n",
       "      <td>10834.0</td>\n",
       "      <td>12856.0</td>\n",
       "      <td>84.27</td>\n",
       "      <td>4959.0</td>\n",
       "      <td>16719.0</td>\n",
       "      <td>2012.0</td>\n",
       "      <td>20.93</td>\n",
       "      <td>70.57</td>\n",
       "      <td>8.49</td>\n",
       "      <td>41.70</td>\n",
       "      <td>3.52</td>\n",
       "    </tr>\n",
       "  </tbody>\n",
       "</table>\n",
       "</div>"
      ],
      "text/plain": [
       "     REGIONAL          Bairros  População Total  Pop. Homens  Pop. Mulheres  \\\n",
       "0  REGIONAL 6       Aerolândia          11360.0       5365.0         5995.0   \n",
       "1  REGIONAL 4        Aeroporto           8618.0       4160.0         4458.0   \n",
       "2  REGIONAL 2          Aldeota          42361.0      17980.0        24381.0   \n",
       "3  REGIONAL 6  Alto da Balança          12814.0       5930.0         6884.0   \n",
       "4  REGIONAL 1     Álvaro Weyne          23690.0      10834.0        12856.0   \n",
       "\n",
       "   Razão de Sexo  População (0-14 anos)  População (15-64 anos)  \\\n",
       "0          89.49                 2400.0                  8118.0   \n",
       "1          93.32                 2389.0                  5918.0   \n",
       "2          73.75                 5600.0                 31587.0   \n",
       "3          86.14                 2709.0                  8941.0   \n",
       "4          84.27                 4959.0                 16719.0   \n",
       "\n",
       "   População (> 64 anos)  % População (0-14 anos)  % População (15-64 anos)  \\\n",
       "0                  842.0                    21.13                     71.46   \n",
       "1                  311.0                    27.72                     68.67   \n",
       "2                 5174.0                    13.22                     74.57   \n",
       "3                 1164.0                    21.14                     69.78   \n",
       "4                 2012.0                    20.93                     70.57   \n",
       "\n",
       "   % População (> 64 anos)  Razão de Dependência  \\\n",
       "0                     7.41                 39.94   \n",
       "1                     3.61                 45.62   \n",
       "2                    12.21                 34.11   \n",
       "3                     9.08                 43.32   \n",
       "4                     8.49                 41.70   \n",
       "\n",
       "   Média de moradores por domicílio  \n",
       "0                              3.45  \n",
       "1                              3.61  \n",
       "2                              3.08  \n",
       "3                              3.39  \n",
       "4                              3.52  "
      ]
     },
     "execution_count": 856,
     "metadata": {},
     "output_type": "execute_result"
    }
   ],
   "source": [
    "data = pd.read_excel('Fortaleza/Demographic data/dadosdemograficosdefortalezaate2010.xlsx', header=2)\n",
    "data.head()"
   ]
  },
  {
   "cell_type": "markdown",
   "id": "095ed16f",
   "metadata": {},
   "source": [
    "## Data preprocessing\n",
    "##### Checking the dataset:size, null data, basic informations and deleting null data."
   ]
  },
  {
   "cell_type": "code",
   "execution_count": 857,
   "id": "b31e464a",
   "metadata": {},
   "outputs": [
    {
     "data": {
      "text/plain": [
       "(122, 14)"
      ]
     },
     "execution_count": 857,
     "metadata": {},
     "output_type": "execute_result"
    }
   ],
   "source": [
    "data.shape #size of dataset (122 rows and 14 columns)"
   ]
  },
  {
   "cell_type": "code",
   "execution_count": 858,
   "id": "62b907b3",
   "metadata": {},
   "outputs": [
    {
     "name": "stdout",
     "output_type": "stream",
     "text": [
      "<class 'pandas.core.frame.DataFrame'>\n",
      "RangeIndex: 122 entries, 0 to 121\n",
      "Data columns (total 14 columns):\n",
      " #   Column                            Non-Null Count  Dtype  \n",
      "---  ------                            --------------  -----  \n",
      " 0   REGIONAL                          122 non-null    object \n",
      " 1   Bairros                           120 non-null    object \n",
      " 2   População Total                   120 non-null    float64\n",
      " 3   Pop. Homens                       120 non-null    float64\n",
      " 4   Pop. Mulheres                     120 non-null    float64\n",
      " 5   Razão de Sexo                     120 non-null    float64\n",
      " 6   População (0-14 anos)             120 non-null    float64\n",
      " 7   População (15-64 anos)            120 non-null    float64\n",
      " 8   População (> 64 anos)             120 non-null    float64\n",
      " 9   % População (0-14 anos)           120 non-null    float64\n",
      " 10  % População (15-64 anos)          120 non-null    float64\n",
      " 11  % População (> 64 anos)           120 non-null    float64\n",
      " 12  Razão de Dependência              120 non-null    float64\n",
      " 13  Média de moradores por domicílio  120 non-null    float64\n",
      "dtypes: float64(12), object(2)\n",
      "memory usage: 13.5+ KB\n"
     ]
    }
   ],
   "source": [
    "data.info() #Information of dataset, knowing about the columns"
   ]
  },
  {
   "cell_type": "code",
   "execution_count": 859,
   "id": "b716a832",
   "metadata": {},
   "outputs": [
    {
     "data": {
      "text/plain": [
       "REGIONAL                            0\n",
       "Bairros                             2\n",
       "População Total                     2\n",
       "Pop. Homens                         2\n",
       "Pop. Mulheres                       2\n",
       "Razão de Sexo                       2\n",
       "População (0-14 anos)               2\n",
       "População (15-64 anos)              2\n",
       "População (> 64 anos)               2\n",
       "% População (0-14 anos)             2\n",
       "% População (15-64 anos)            2\n",
       "% População (> 64 anos)             2\n",
       "Razão de Dependência                2\n",
       "Média de moradores por domicílio    2\n",
       "dtype: int64"
      ]
     },
     "execution_count": 859,
     "metadata": {},
     "output_type": "execute_result"
    }
   ],
   "source": [
    "#Checking null data\n",
    "data.isnull().sum()"
   ]
  },
  {
   "cell_type": "code",
   "execution_count": 860,
   "id": "1723afcd",
   "metadata": {},
   "outputs": [
    {
     "data": {
      "text/html": [
       "<div>\n",
       "<style scoped>\n",
       "    .dataframe tbody tr th:only-of-type {\n",
       "        vertical-align: middle;\n",
       "    }\n",
       "\n",
       "    .dataframe tbody tr th {\n",
       "        vertical-align: top;\n",
       "    }\n",
       "\n",
       "    .dataframe thead th {\n",
       "        text-align: right;\n",
       "    }\n",
       "</style>\n",
       "<table border=\"1\" class=\"dataframe\">\n",
       "  <thead>\n",
       "    <tr style=\"text-align: right;\">\n",
       "      <th></th>\n",
       "      <th>REGIONAL</th>\n",
       "      <th>Bairros</th>\n",
       "      <th>População Total</th>\n",
       "      <th>Pop. Homens</th>\n",
       "      <th>Pop. Mulheres</th>\n",
       "      <th>Razão de Sexo</th>\n",
       "      <th>População (0-14 anos)</th>\n",
       "      <th>População (15-64 anos)</th>\n",
       "      <th>População (&gt; 64 anos)</th>\n",
       "      <th>% População (0-14 anos)</th>\n",
       "      <th>% População (15-64 anos)</th>\n",
       "      <th>% População (&gt; 64 anos)</th>\n",
       "      <th>Razão de Dependência</th>\n",
       "      <th>Média de moradores por domicílio</th>\n",
       "    </tr>\n",
       "  </thead>\n",
       "  <tbody>\n",
       "    <tr>\n",
       "      <th>120</th>\n",
       "      <td>Fonte: Censo 2010, IBGE.</td>\n",
       "      <td>NaN</td>\n",
       "      <td>NaN</td>\n",
       "      <td>NaN</td>\n",
       "      <td>NaN</td>\n",
       "      <td>NaN</td>\n",
       "      <td>NaN</td>\n",
       "      <td>NaN</td>\n",
       "      <td>NaN</td>\n",
       "      <td>NaN</td>\n",
       "      <td>NaN</td>\n",
       "      <td>NaN</td>\n",
       "      <td>NaN</td>\n",
       "      <td>NaN</td>\n",
       "    </tr>\n",
       "    <tr>\n",
       "      <th>121</th>\n",
       "      <td>* Bairros novos (sem informação)</td>\n",
       "      <td>NaN</td>\n",
       "      <td>NaN</td>\n",
       "      <td>NaN</td>\n",
       "      <td>NaN</td>\n",
       "      <td>NaN</td>\n",
       "      <td>NaN</td>\n",
       "      <td>NaN</td>\n",
       "      <td>NaN</td>\n",
       "      <td>NaN</td>\n",
       "      <td>NaN</td>\n",
       "      <td>NaN</td>\n",
       "      <td>NaN</td>\n",
       "      <td>NaN</td>\n",
       "    </tr>\n",
       "  </tbody>\n",
       "</table>\n",
       "</div>"
      ],
      "text/plain": [
       "                             REGIONAL Bairros  População Total  Pop. Homens  \\\n",
       "120          Fonte: Censo 2010, IBGE.     NaN              NaN          NaN   \n",
       "121  * Bairros novos (sem informação)     NaN              NaN          NaN   \n",
       "\n",
       "     Pop. Mulheres  Razão de Sexo  População (0-14 anos)  \\\n",
       "120            NaN            NaN                    NaN   \n",
       "121            NaN            NaN                    NaN   \n",
       "\n",
       "     População (15-64 anos)  População (> 64 anos)  % População (0-14 anos)  \\\n",
       "120                     NaN                    NaN                      NaN   \n",
       "121                     NaN                    NaN                      NaN   \n",
       "\n",
       "     % População (15-64 anos)  % População (> 64 anos)  Razão de Dependência  \\\n",
       "120                       NaN                      NaN                   NaN   \n",
       "121                       NaN                      NaN                   NaN   \n",
       "\n",
       "     Média de moradores por domicílio  \n",
       "120                               NaN  \n",
       "121                               NaN  "
      ]
     },
     "execution_count": 860,
     "metadata": {},
     "output_type": "execute_result"
    }
   ],
   "source": [
    "#Searching null data, was found null data in all columns except in REGIONAL.\n",
    "#After the checking the result was:\n",
    "\n",
    "selecao = data['Bairros'].isnull()\n",
    "data[selecao]"
   ]
  },
  {
   "cell_type": "code",
   "execution_count": 861,
   "id": "d89cadb3",
   "metadata": {},
   "outputs": [],
   "source": [
    "# Deleting null data in all dataset\n",
    "data.dropna(inplace=True)"
   ]
  },
  {
   "cell_type": "code",
   "execution_count": 862,
   "id": "cc966ec4",
   "metadata": {},
   "outputs": [
    {
     "data": {
      "text/plain": [
       "REGIONAL                            0\n",
       "Bairros                             0\n",
       "População Total                     0\n",
       "Pop. Homens                         0\n",
       "Pop. Mulheres                       0\n",
       "Razão de Sexo                       0\n",
       "População (0-14 anos)               0\n",
       "População (15-64 anos)              0\n",
       "População (> 64 anos)               0\n",
       "% População (0-14 anos)             0\n",
       "% População (15-64 anos)            0\n",
       "% População (> 64 anos)             0\n",
       "Razão de Dependência                0\n",
       "Média de moradores por domicílio    0\n",
       "dtype: int64"
      ]
     },
     "execution_count": 862,
     "metadata": {},
     "output_type": "execute_result"
    }
   ],
   "source": [
    "#Checking again about null data = OK\n",
    "data.isnull().sum()"
   ]
  },
  {
   "cell_type": "markdown",
   "id": "a6400e96",
   "metadata": {},
   "source": [
    "#### Observations: A SMALL ANALYSIS BEFORE DATA ANALYSIS\n",
    "1. The last column = 'Média de moradores por domicílio'. It has a interesting data, usully mean is size_of_thing by size_of_diferente_thing. In our case population size by houses size. \n",
    "2. However, we haven't size house, so, we have make a matemathics manipulation\n",
    "3. So, we have: (População Total/Domicílio Total) = Média de moradores por domicílio\n",
    "4. Soon we have: (População Total/Média de moradores por domicílio) = Domicílio Total\n",
    "\n",
    "Let's "
   ]
  },
  {
   "cell_type": "code",
   "execution_count": 863,
   "id": "008fbbb0",
   "metadata": {},
   "outputs": [
    {
     "data": {
      "text/html": [
       "<div>\n",
       "<style scoped>\n",
       "    .dataframe tbody tr th:only-of-type {\n",
       "        vertical-align: middle;\n",
       "    }\n",
       "\n",
       "    .dataframe tbody tr th {\n",
       "        vertical-align: top;\n",
       "    }\n",
       "\n",
       "    .dataframe thead th {\n",
       "        text-align: right;\n",
       "    }\n",
       "</style>\n",
       "<table border=\"1\" class=\"dataframe\">\n",
       "  <thead>\n",
       "    <tr style=\"text-align: right;\">\n",
       "      <th></th>\n",
       "      <th>REGIONAL</th>\n",
       "      <th>Bairros</th>\n",
       "      <th>População Total</th>\n",
       "      <th>Pop. Homens</th>\n",
       "      <th>Pop. Mulheres</th>\n",
       "      <th>Razão de Sexo</th>\n",
       "      <th>População (0-14 anos)</th>\n",
       "      <th>População (15-64 anos)</th>\n",
       "      <th>População (&gt; 64 anos)</th>\n",
       "      <th>% População (0-14 anos)</th>\n",
       "      <th>% População (15-64 anos)</th>\n",
       "      <th>% População (&gt; 64 anos)</th>\n",
       "      <th>Razão de Dependência</th>\n",
       "      <th>Média de moradores por domicílio</th>\n",
       "      <th>Domicílio Total</th>\n",
       "    </tr>\n",
       "  </thead>\n",
       "  <tbody>\n",
       "    <tr>\n",
       "      <th>0</th>\n",
       "      <td>REGIONAL 6</td>\n",
       "      <td>Aerolândia</td>\n",
       "      <td>11360.0</td>\n",
       "      <td>5365.0</td>\n",
       "      <td>5995.0</td>\n",
       "      <td>89.49</td>\n",
       "      <td>2400.0</td>\n",
       "      <td>8118.0</td>\n",
       "      <td>842.0</td>\n",
       "      <td>21.13</td>\n",
       "      <td>71.46</td>\n",
       "      <td>7.41</td>\n",
       "      <td>39.94</td>\n",
       "      <td>3.45</td>\n",
       "      <td>3292.753623</td>\n",
       "    </tr>\n",
       "    <tr>\n",
       "      <th>1</th>\n",
       "      <td>REGIONAL 4</td>\n",
       "      <td>Aeroporto</td>\n",
       "      <td>8618.0</td>\n",
       "      <td>4160.0</td>\n",
       "      <td>4458.0</td>\n",
       "      <td>93.32</td>\n",
       "      <td>2389.0</td>\n",
       "      <td>5918.0</td>\n",
       "      <td>311.0</td>\n",
       "      <td>27.72</td>\n",
       "      <td>68.67</td>\n",
       "      <td>3.61</td>\n",
       "      <td>45.62</td>\n",
       "      <td>3.61</td>\n",
       "      <td>2387.257618</td>\n",
       "    </tr>\n",
       "    <tr>\n",
       "      <th>2</th>\n",
       "      <td>REGIONAL 2</td>\n",
       "      <td>Aldeota</td>\n",
       "      <td>42361.0</td>\n",
       "      <td>17980.0</td>\n",
       "      <td>24381.0</td>\n",
       "      <td>73.75</td>\n",
       "      <td>5600.0</td>\n",
       "      <td>31587.0</td>\n",
       "      <td>5174.0</td>\n",
       "      <td>13.22</td>\n",
       "      <td>74.57</td>\n",
       "      <td>12.21</td>\n",
       "      <td>34.11</td>\n",
       "      <td>3.08</td>\n",
       "      <td>13753.571429</td>\n",
       "    </tr>\n",
       "    <tr>\n",
       "      <th>3</th>\n",
       "      <td>REGIONAL 6</td>\n",
       "      <td>Alto da Balança</td>\n",
       "      <td>12814.0</td>\n",
       "      <td>5930.0</td>\n",
       "      <td>6884.0</td>\n",
       "      <td>86.14</td>\n",
       "      <td>2709.0</td>\n",
       "      <td>8941.0</td>\n",
       "      <td>1164.0</td>\n",
       "      <td>21.14</td>\n",
       "      <td>69.78</td>\n",
       "      <td>9.08</td>\n",
       "      <td>43.32</td>\n",
       "      <td>3.39</td>\n",
       "      <td>3779.941003</td>\n",
       "    </tr>\n",
       "    <tr>\n",
       "      <th>4</th>\n",
       "      <td>REGIONAL 1</td>\n",
       "      <td>Álvaro Weyne</td>\n",
       "      <td>23690.0</td>\n",
       "      <td>10834.0</td>\n",
       "      <td>12856.0</td>\n",
       "      <td>84.27</td>\n",
       "      <td>4959.0</td>\n",
       "      <td>16719.0</td>\n",
       "      <td>2012.0</td>\n",
       "      <td>20.93</td>\n",
       "      <td>70.57</td>\n",
       "      <td>8.49</td>\n",
       "      <td>41.70</td>\n",
       "      <td>3.52</td>\n",
       "      <td>6730.113636</td>\n",
       "    </tr>\n",
       "  </tbody>\n",
       "</table>\n",
       "</div>"
      ],
      "text/plain": [
       "     REGIONAL          Bairros  População Total  Pop. Homens  Pop. Mulheres  \\\n",
       "0  REGIONAL 6       Aerolândia          11360.0       5365.0         5995.0   \n",
       "1  REGIONAL 4        Aeroporto           8618.0       4160.0         4458.0   \n",
       "2  REGIONAL 2          Aldeota          42361.0      17980.0        24381.0   \n",
       "3  REGIONAL 6  Alto da Balança          12814.0       5930.0         6884.0   \n",
       "4  REGIONAL 1     Álvaro Weyne          23690.0      10834.0        12856.0   \n",
       "\n",
       "   Razão de Sexo  População (0-14 anos)  População (15-64 anos)  \\\n",
       "0          89.49                 2400.0                  8118.0   \n",
       "1          93.32                 2389.0                  5918.0   \n",
       "2          73.75                 5600.0                 31587.0   \n",
       "3          86.14                 2709.0                  8941.0   \n",
       "4          84.27                 4959.0                 16719.0   \n",
       "\n",
       "   População (> 64 anos)  % População (0-14 anos)  % População (15-64 anos)  \\\n",
       "0                  842.0                    21.13                     71.46   \n",
       "1                  311.0                    27.72                     68.67   \n",
       "2                 5174.0                    13.22                     74.57   \n",
       "3                 1164.0                    21.14                     69.78   \n",
       "4                 2012.0                    20.93                     70.57   \n",
       "\n",
       "   % População (> 64 anos)  Razão de Dependência  \\\n",
       "0                     7.41                 39.94   \n",
       "1                     3.61                 45.62   \n",
       "2                    12.21                 34.11   \n",
       "3                     9.08                 43.32   \n",
       "4                     8.49                 41.70   \n",
       "\n",
       "   Média de moradores por domicílio  Domicílio Total  \n",
       "0                              3.45      3292.753623  \n",
       "1                              3.61      2387.257618  \n",
       "2                              3.08     13753.571429  \n",
       "3                              3.39      3779.941003  \n",
       "4                              3.52      6730.113636  "
      ]
     },
     "execution_count": 863,
     "metadata": {},
     "output_type": "execute_result"
    }
   ],
   "source": [
    "#Creating new column\n",
    "data['Domicílio Total'] = (data['População Total'] / data['Média de moradores por domicílio'])\n",
    "data.head()"
   ]
  },
  {
   "cell_type": "markdown",
   "id": "6d9511e9",
   "metadata": {},
   "source": [
    "##### The error below show us, that null values was created when new column was implemented"
   ]
  },
  {
   "cell_type": "code",
   "execution_count": 864,
   "id": "39ddd081",
   "metadata": {
    "scrolled": false
   },
   "outputs": [],
   "source": [
    "# Using apply() function with lambda for get integer values in column 'Domicílio total'\n",
    "#data['Domicílio Total'].apply(lambda x: int(x))\n",
    "#But a error below"
   ]
  },
  {
   "cell_type": "code",
   "execution_count": 865,
   "id": "4f6ed615",
   "metadata": {},
   "outputs": [
    {
     "data": {
      "text/plain": [
       "REGIONAL                            0\n",
       "Bairros                             0\n",
       "População Total                     0\n",
       "Pop. Homens                         0\n",
       "Pop. Mulheres                       0\n",
       "Razão de Sexo                       0\n",
       "População (0-14 anos)               0\n",
       "População (15-64 anos)              0\n",
       "População (> 64 anos)               0\n",
       "% População (0-14 anos)             0\n",
       "% População (15-64 anos)            0\n",
       "% População (> 64 anos)             0\n",
       "Razão de Dependência                0\n",
       "Média de moradores por domicílio    0\n",
       "Domicílio Total                     3\n",
       "dtype: int64"
      ]
     },
     "execution_count": 865,
     "metadata": {},
     "output_type": "execute_result"
    }
   ],
   "source": [
    "#Checking again about null data\n",
    "data.isnull().sum()"
   ]
  },
  {
   "cell_type": "markdown",
   "id": "e552e9df",
   "metadata": {},
   "source": [
    "##### Searching new null data"
   ]
  },
  {
   "cell_type": "code",
   "execution_count": 866,
   "id": "b54cc77f",
   "metadata": {},
   "outputs": [
    {
     "data": {
      "text/html": [
       "<div>\n",
       "<style scoped>\n",
       "    .dataframe tbody tr th:only-of-type {\n",
       "        vertical-align: middle;\n",
       "    }\n",
       "\n",
       "    .dataframe tbody tr th {\n",
       "        vertical-align: top;\n",
       "    }\n",
       "\n",
       "    .dataframe thead th {\n",
       "        text-align: right;\n",
       "    }\n",
       "</style>\n",
       "<table border=\"1\" class=\"dataframe\">\n",
       "  <thead>\n",
       "    <tr style=\"text-align: right;\">\n",
       "      <th></th>\n",
       "      <th>REGIONAL</th>\n",
       "      <th>Bairros</th>\n",
       "      <th>População Total</th>\n",
       "      <th>Pop. Homens</th>\n",
       "      <th>Pop. Mulheres</th>\n",
       "      <th>Razão de Sexo</th>\n",
       "      <th>População (0-14 anos)</th>\n",
       "      <th>População (15-64 anos)</th>\n",
       "      <th>População (&gt; 64 anos)</th>\n",
       "      <th>% População (0-14 anos)</th>\n",
       "      <th>% População (15-64 anos)</th>\n",
       "      <th>% População (&gt; 64 anos)</th>\n",
       "      <th>Razão de Dependência</th>\n",
       "      <th>Média de moradores por domicílio</th>\n",
       "      <th>Domicílio Total</th>\n",
       "    </tr>\n",
       "  </thead>\n",
       "  <tbody>\n",
       "    <tr>\n",
       "      <th>77</th>\n",
       "      <td>REGIONAL 5</td>\n",
       "      <td>Novo Mondubim*</td>\n",
       "      <td>0.0</td>\n",
       "      <td>0.0</td>\n",
       "      <td>0.0</td>\n",
       "      <td>0.0</td>\n",
       "      <td>0.0</td>\n",
       "      <td>0.0</td>\n",
       "      <td>0.0</td>\n",
       "      <td>0.0</td>\n",
       "      <td>0.0</td>\n",
       "      <td>0.0</td>\n",
       "      <td>0.0</td>\n",
       "      <td>0.0</td>\n",
       "      <td>NaN</td>\n",
       "    </tr>\n",
       "    <tr>\n",
       "      <th>78</th>\n",
       "      <td>REGIONAL 3</td>\n",
       "      <td>Olavo Oliveira*</td>\n",
       "      <td>0.0</td>\n",
       "      <td>0.0</td>\n",
       "      <td>0.0</td>\n",
       "      <td>0.0</td>\n",
       "      <td>0.0</td>\n",
       "      <td>0.0</td>\n",
       "      <td>0.0</td>\n",
       "      <td>0.0</td>\n",
       "      <td>0.0</td>\n",
       "      <td>0.0</td>\n",
       "      <td>0.0</td>\n",
       "      <td>0.0</td>\n",
       "      <td>NaN</td>\n",
       "    </tr>\n",
       "    <tr>\n",
       "      <th>88</th>\n",
       "      <td>REGIONAL 6</td>\n",
       "      <td>Parque Santa Maria*</td>\n",
       "      <td>0.0</td>\n",
       "      <td>0.0</td>\n",
       "      <td>0.0</td>\n",
       "      <td>0.0</td>\n",
       "      <td>0.0</td>\n",
       "      <td>0.0</td>\n",
       "      <td>0.0</td>\n",
       "      <td>0.0</td>\n",
       "      <td>0.0</td>\n",
       "      <td>0.0</td>\n",
       "      <td>0.0</td>\n",
       "      <td>0.0</td>\n",
       "      <td>NaN</td>\n",
       "    </tr>\n",
       "  </tbody>\n",
       "</table>\n",
       "</div>"
      ],
      "text/plain": [
       "      REGIONAL              Bairros  População Total  Pop. Homens  \\\n",
       "77  REGIONAL 5       Novo Mondubim*              0.0          0.0   \n",
       "78  REGIONAL 3      Olavo Oliveira*              0.0          0.0   \n",
       "88  REGIONAL 6  Parque Santa Maria*              0.0          0.0   \n",
       "\n",
       "    Pop. Mulheres  Razão de Sexo  População (0-14 anos)  \\\n",
       "77            0.0            0.0                    0.0   \n",
       "78            0.0            0.0                    0.0   \n",
       "88            0.0            0.0                    0.0   \n",
       "\n",
       "    População (15-64 anos)  População (> 64 anos)  % População (0-14 anos)  \\\n",
       "77                     0.0                    0.0                      0.0   \n",
       "78                     0.0                    0.0                      0.0   \n",
       "88                     0.0                    0.0                      0.0   \n",
       "\n",
       "    % População (15-64 anos)  % População (> 64 anos)  Razão de Dependência  \\\n",
       "77                       0.0                      0.0                   0.0   \n",
       "78                       0.0                      0.0                   0.0   \n",
       "88                       0.0                      0.0                   0.0   \n",
       "\n",
       "    Média de moradores por domicílio  Domicílio Total  \n",
       "77                               0.0              NaN  \n",
       "78                               0.0              NaN  \n",
       "88                               0.0              NaN  "
      ]
     },
     "execution_count": 866,
     "metadata": {},
     "output_type": "execute_result"
    }
   ],
   "source": [
    "#Searching new null data\n",
    "#Was possible to check 3 data from dataset that it is missing, even though let's delete this data\n",
    "visualization_null_data = data['Domicílio Total'].isnull() == True\n",
    "data[visualization_null_data]"
   ]
  },
  {
   "cell_type": "markdown",
   "id": "819be4f9",
   "metadata": {},
   "source": [
    "##### Deleting new null data"
   ]
  },
  {
   "cell_type": "code",
   "execution_count": 867,
   "id": "c7a56d07",
   "metadata": {},
   "outputs": [],
   "source": [
    "#DELETING ROWS THAT IS NULL\n",
    "data.drop([77, 78, 88], axis=0, inplace=True)"
   ]
  },
  {
   "cell_type": "code",
   "execution_count": 868,
   "id": "d91e9824",
   "metadata": {},
   "outputs": [
    {
     "data": {
      "text/plain": [
       "Int64Index([  0,   1,   2,   3,   4,   5,   6,   7,   8,   9,\n",
       "            ...\n",
       "            110, 111, 112, 113, 114, 115, 116, 117, 118, 119],\n",
       "           dtype='int64', length=117)"
      ]
     },
     "execution_count": 868,
     "metadata": {},
     "output_type": "execute_result"
    }
   ],
   "source": [
    "# Desordering indexs\n",
    "data.index"
   ]
  },
  {
   "cell_type": "code",
   "execution_count": 869,
   "id": "e132b5ed",
   "metadata": {},
   "outputs": [
    {
     "data": {
      "text/html": [
       "<div>\n",
       "<style scoped>\n",
       "    .dataframe tbody tr th:only-of-type {\n",
       "        vertical-align: middle;\n",
       "    }\n",
       "\n",
       "    .dataframe tbody tr th {\n",
       "        vertical-align: top;\n",
       "    }\n",
       "\n",
       "    .dataframe thead th {\n",
       "        text-align: right;\n",
       "    }\n",
       "</style>\n",
       "<table border=\"1\" class=\"dataframe\">\n",
       "  <thead>\n",
       "    <tr style=\"text-align: right;\">\n",
       "      <th></th>\n",
       "      <th>REGIONAL</th>\n",
       "      <th>Bairros</th>\n",
       "      <th>População Total</th>\n",
       "      <th>Pop. Homens</th>\n",
       "      <th>Pop. Mulheres</th>\n",
       "      <th>Razão de Sexo</th>\n",
       "      <th>População (0-14 anos)</th>\n",
       "      <th>População (15-64 anos)</th>\n",
       "      <th>População (&gt; 64 anos)</th>\n",
       "      <th>% População (0-14 anos)</th>\n",
       "      <th>% População (15-64 anos)</th>\n",
       "      <th>% População (&gt; 64 anos)</th>\n",
       "      <th>Razão de Dependência</th>\n",
       "      <th>Média de moradores por domicílio</th>\n",
       "      <th>Domicílio Total</th>\n",
       "    </tr>\n",
       "  </thead>\n",
       "  <tbody>\n",
       "  </tbody>\n",
       "</table>\n",
       "</div>"
      ],
      "text/plain": [
       "Empty DataFrame\n",
       "Columns: [REGIONAL, Bairros, População Total, Pop. Homens, Pop. Mulheres, Razão de Sexo, População (0-14 anos), População (15-64 anos), População (> 64 anos), % População (0-14 anos), % População (15-64 anos), % População (> 64 anos), Razão de Dependência, Média de moradores por domicílio, Domicílio Total]\n",
       "Index: []"
      ]
     },
     "execution_count": 869,
     "metadata": {},
     "output_type": "execute_result"
    }
   ],
   "source": [
    "# CHECKING AGAIN == OK\n",
    "visualization_null_data = data['Domicílio Total'].isnull() == True\n",
    "data[visualization_null_data]"
   ]
  },
  {
   "cell_type": "code",
   "execution_count": 870,
   "id": "82451eaf",
   "metadata": {},
   "outputs": [],
   "source": [
    "# ordering the rows, after data deleted\n",
    "data.index = range(data.shape[0])"
   ]
  },
  {
   "cell_type": "code",
   "execution_count": 871,
   "id": "365bda1b",
   "metadata": {},
   "outputs": [
    {
     "data": {
      "text/plain": [
       "RangeIndex(start=0, stop=117, step=1)"
      ]
     },
     "execution_count": 871,
     "metadata": {},
     "output_type": "execute_result"
    }
   ],
   "source": [
    "# Verifying == OK\n",
    "data.index"
   ]
  },
  {
   "cell_type": "code",
   "execution_count": 872,
   "id": "ebf37344",
   "metadata": {},
   "outputs": [
    {
     "data": {
      "text/html": [
       "<div>\n",
       "<style scoped>\n",
       "    .dataframe tbody tr th:only-of-type {\n",
       "        vertical-align: middle;\n",
       "    }\n",
       "\n",
       "    .dataframe tbody tr th {\n",
       "        vertical-align: top;\n",
       "    }\n",
       "\n",
       "    .dataframe thead th {\n",
       "        text-align: right;\n",
       "    }\n",
       "</style>\n",
       "<table border=\"1\" class=\"dataframe\">\n",
       "  <thead>\n",
       "    <tr style=\"text-align: right;\">\n",
       "      <th></th>\n",
       "      <th>REGIONAL</th>\n",
       "      <th>Bairros</th>\n",
       "      <th>População Total</th>\n",
       "      <th>Pop. Homens</th>\n",
       "      <th>Pop. Mulheres</th>\n",
       "      <th>Razão de Sexo</th>\n",
       "      <th>População (0-14 anos)</th>\n",
       "      <th>População (15-64 anos)</th>\n",
       "      <th>População (&gt; 64 anos)</th>\n",
       "      <th>% População (0-14 anos)</th>\n",
       "      <th>% População (15-64 anos)</th>\n",
       "      <th>% População (&gt; 64 anos)</th>\n",
       "      <th>Razão de Dependência</th>\n",
       "      <th>Média de moradores por domicílio</th>\n",
       "      <th>Domicílio Total</th>\n",
       "    </tr>\n",
       "  </thead>\n",
       "  <tbody>\n",
       "    <tr>\n",
       "      <th>0</th>\n",
       "      <td>REGIONAL 6</td>\n",
       "      <td>Aerolândia</td>\n",
       "      <td>11360.0</td>\n",
       "      <td>5365.0</td>\n",
       "      <td>5995.0</td>\n",
       "      <td>89.49</td>\n",
       "      <td>2400.0</td>\n",
       "      <td>8118.0</td>\n",
       "      <td>842.0</td>\n",
       "      <td>21.13</td>\n",
       "      <td>71.46</td>\n",
       "      <td>7.41</td>\n",
       "      <td>39.94</td>\n",
       "      <td>3.45</td>\n",
       "      <td>3292</td>\n",
       "    </tr>\n",
       "    <tr>\n",
       "      <th>1</th>\n",
       "      <td>REGIONAL 4</td>\n",
       "      <td>Aeroporto</td>\n",
       "      <td>8618.0</td>\n",
       "      <td>4160.0</td>\n",
       "      <td>4458.0</td>\n",
       "      <td>93.32</td>\n",
       "      <td>2389.0</td>\n",
       "      <td>5918.0</td>\n",
       "      <td>311.0</td>\n",
       "      <td>27.72</td>\n",
       "      <td>68.67</td>\n",
       "      <td>3.61</td>\n",
       "      <td>45.62</td>\n",
       "      <td>3.61</td>\n",
       "      <td>2387</td>\n",
       "    </tr>\n",
       "    <tr>\n",
       "      <th>2</th>\n",
       "      <td>REGIONAL 2</td>\n",
       "      <td>Aldeota</td>\n",
       "      <td>42361.0</td>\n",
       "      <td>17980.0</td>\n",
       "      <td>24381.0</td>\n",
       "      <td>73.75</td>\n",
       "      <td>5600.0</td>\n",
       "      <td>31587.0</td>\n",
       "      <td>5174.0</td>\n",
       "      <td>13.22</td>\n",
       "      <td>74.57</td>\n",
       "      <td>12.21</td>\n",
       "      <td>34.11</td>\n",
       "      <td>3.08</td>\n",
       "      <td>13753</td>\n",
       "    </tr>\n",
       "    <tr>\n",
       "      <th>3</th>\n",
       "      <td>REGIONAL 6</td>\n",
       "      <td>Alto da Balança</td>\n",
       "      <td>12814.0</td>\n",
       "      <td>5930.0</td>\n",
       "      <td>6884.0</td>\n",
       "      <td>86.14</td>\n",
       "      <td>2709.0</td>\n",
       "      <td>8941.0</td>\n",
       "      <td>1164.0</td>\n",
       "      <td>21.14</td>\n",
       "      <td>69.78</td>\n",
       "      <td>9.08</td>\n",
       "      <td>43.32</td>\n",
       "      <td>3.39</td>\n",
       "      <td>3779</td>\n",
       "    </tr>\n",
       "    <tr>\n",
       "      <th>4</th>\n",
       "      <td>REGIONAL 1</td>\n",
       "      <td>Álvaro Weyne</td>\n",
       "      <td>23690.0</td>\n",
       "      <td>10834.0</td>\n",
       "      <td>12856.0</td>\n",
       "      <td>84.27</td>\n",
       "      <td>4959.0</td>\n",
       "      <td>16719.0</td>\n",
       "      <td>2012.0</td>\n",
       "      <td>20.93</td>\n",
       "      <td>70.57</td>\n",
       "      <td>8.49</td>\n",
       "      <td>41.70</td>\n",
       "      <td>3.52</td>\n",
       "      <td>6730</td>\n",
       "    </tr>\n",
       "  </tbody>\n",
       "</table>\n",
       "</div>"
      ],
      "text/plain": [
       "     REGIONAL          Bairros  População Total  Pop. Homens  Pop. Mulheres  \\\n",
       "0  REGIONAL 6       Aerolândia          11360.0       5365.0         5995.0   \n",
       "1  REGIONAL 4        Aeroporto           8618.0       4160.0         4458.0   \n",
       "2  REGIONAL 2          Aldeota          42361.0      17980.0        24381.0   \n",
       "3  REGIONAL 6  Alto da Balança          12814.0       5930.0         6884.0   \n",
       "4  REGIONAL 1     Álvaro Weyne          23690.0      10834.0        12856.0   \n",
       "\n",
       "   Razão de Sexo  População (0-14 anos)  População (15-64 anos)  \\\n",
       "0          89.49                 2400.0                  8118.0   \n",
       "1          93.32                 2389.0                  5918.0   \n",
       "2          73.75                 5600.0                 31587.0   \n",
       "3          86.14                 2709.0                  8941.0   \n",
       "4          84.27                 4959.0                 16719.0   \n",
       "\n",
       "   População (> 64 anos)  % População (0-14 anos)  % População (15-64 anos)  \\\n",
       "0                  842.0                    21.13                     71.46   \n",
       "1                  311.0                    27.72                     68.67   \n",
       "2                 5174.0                    13.22                     74.57   \n",
       "3                 1164.0                    21.14                     69.78   \n",
       "4                 2012.0                    20.93                     70.57   \n",
       "\n",
       "   % População (> 64 anos)  Razão de Dependência  \\\n",
       "0                     7.41                 39.94   \n",
       "1                     3.61                 45.62   \n",
       "2                    12.21                 34.11   \n",
       "3                     9.08                 43.32   \n",
       "4                     8.49                 41.70   \n",
       "\n",
       "   Média de moradores por domicílio  Domicílio Total  \n",
       "0                              3.45             3292  \n",
       "1                              3.61             2387  \n",
       "2                              3.08            13753  \n",
       "3                              3.39             3779  \n",
       "4                              3.52             6730  "
      ]
     },
     "execution_count": 872,
     "metadata": {},
     "output_type": "execute_result"
    }
   ],
   "source": [
    "# Using apply() function with lambda for get integer values in column 'Domicílio total'\n",
    "data['Domicílio Total'] = data['Domicílio Total'].apply(lambda x: int(x))\n",
    "data.head()"
   ]
  },
  {
   "cell_type": "markdown",
   "id": "f6e0557e",
   "metadata": {},
   "source": [
    "### EXPLORATORY DATA ANALYSIS"
   ]
  },
  {
   "cell_type": "markdown",
   "id": "b2432997",
   "metadata": {},
   "source": [
    "### ANALYSIS:\n",
    "1. ANALYSIS AMOUNT OF HOUSES (%) BY DISTRICT\n",
    "2. ANALYSIS AMOUNT OF POPULATION X REGIONAL\n",
    "3. ANALYSIS AMOUNT OF POPULATION MAJOR 64 OLD YEAR X REGIONAL\n",
    "3. ANALYSIS AMOUNT OF POPULATION MAJOR 64 OLD YEAR X DISTRICT\n",
    "4. ANALYSIS DEPENDENCE REASON FOR MENS AND WOMANS\n",
    "5. ANALYSES AMOUNT MENS AND WOMANS FOR DISTRICT AND REGIONAL"
   ]
  },
  {
   "cell_type": "markdown",
   "id": "9c9701b1",
   "metadata": {},
   "source": [
    "### 1 - Analysis amount of houses (%) by district"
   ]
  },
  {
   "cell_type": "code",
   "execution_count": 873,
   "id": "c7691145",
   "metadata": {
    "scrolled": true
   },
   "outputs": [
    {
     "data": {
      "text/html": [
       "<div>\n",
       "<style scoped>\n",
       "    .dataframe tbody tr th:only-of-type {\n",
       "        vertical-align: middle;\n",
       "    }\n",
       "\n",
       "    .dataframe tbody tr th {\n",
       "        vertical-align: top;\n",
       "    }\n",
       "\n",
       "    .dataframe thead th {\n",
       "        text-align: right;\n",
       "    }\n",
       "</style>\n",
       "<table border=\"1\" class=\"dataframe\">\n",
       "  <thead>\n",
       "    <tr style=\"text-align: right;\">\n",
       "      <th></th>\n",
       "      <th>REGIONAL</th>\n",
       "      <th>Bairros</th>\n",
       "      <th>População Total</th>\n",
       "      <th>Pop. Homens</th>\n",
       "      <th>Pop. Mulheres</th>\n",
       "      <th>Razão de Sexo</th>\n",
       "      <th>População (0-14 anos)</th>\n",
       "      <th>População (15-64 anos)</th>\n",
       "      <th>População (&gt; 64 anos)</th>\n",
       "      <th>% População (0-14 anos)</th>\n",
       "      <th>% População (15-64 anos)</th>\n",
       "      <th>% População (&gt; 64 anos)</th>\n",
       "      <th>Razão de Dependência</th>\n",
       "      <th>Média de moradores por domicílio</th>\n",
       "      <th>Domicílio Total</th>\n",
       "    </tr>\n",
       "  </thead>\n",
       "  <tbody>\n",
       "    <tr>\n",
       "      <th>73</th>\n",
       "      <td>REGIONAL 5</td>\n",
       "      <td>Mondubim</td>\n",
       "      <td>76044.0</td>\n",
       "      <td>36555.0</td>\n",
       "      <td>39489.0</td>\n",
       "      <td>92.57</td>\n",
       "      <td>19726.0</td>\n",
       "      <td>53187.0</td>\n",
       "      <td>3131.0</td>\n",
       "      <td>25.94</td>\n",
       "      <td>69.94</td>\n",
       "      <td>4.12</td>\n",
       "      <td>42.97</td>\n",
       "      <td>3.44</td>\n",
       "      <td>22105</td>\n",
       "    </tr>\n",
       "    <tr>\n",
       "      <th>10</th>\n",
       "      <td>REGIONAL 1</td>\n",
       "      <td>Barra do Ceará</td>\n",
       "      <td>72423.0</td>\n",
       "      <td>34658.0</td>\n",
       "      <td>37765.0</td>\n",
       "      <td>91.77</td>\n",
       "      <td>18271.0</td>\n",
       "      <td>50651.0</td>\n",
       "      <td>3501.0</td>\n",
       "      <td>25.23</td>\n",
       "      <td>69.94</td>\n",
       "      <td>4.83</td>\n",
       "      <td>42.98</td>\n",
       "      <td>3.56</td>\n",
       "      <td>20343</td>\n",
       "    </tr>\n",
       "    <tr>\n",
       "      <th>115</th>\n",
       "      <td>REGIONAL 1</td>\n",
       "      <td>Vila Velha</td>\n",
       "      <td>61617.0</td>\n",
       "      <td>29108.0</td>\n",
       "      <td>32509.0</td>\n",
       "      <td>89.54</td>\n",
       "      <td>15394.0</td>\n",
       "      <td>42793.0</td>\n",
       "      <td>3430.0</td>\n",
       "      <td>24.98</td>\n",
       "      <td>69.45</td>\n",
       "      <td>5.57</td>\n",
       "      <td>43.99</td>\n",
       "      <td>3.55</td>\n",
       "      <td>17356</td>\n",
       "    </tr>\n",
       "  </tbody>\n",
       "</table>\n",
       "</div>"
      ],
      "text/plain": [
       "       REGIONAL         Bairros  População Total  Pop. Homens  Pop. Mulheres  \\\n",
       "73   REGIONAL 5        Mondubim          76044.0      36555.0        39489.0   \n",
       "10   REGIONAL 1  Barra do Ceará          72423.0      34658.0        37765.0   \n",
       "115  REGIONAL 1      Vila Velha          61617.0      29108.0        32509.0   \n",
       "\n",
       "     Razão de Sexo  População (0-14 anos)  População (15-64 anos)  \\\n",
       "73           92.57                19726.0                 53187.0   \n",
       "10           91.77                18271.0                 50651.0   \n",
       "115          89.54                15394.0                 42793.0   \n",
       "\n",
       "     População (> 64 anos)  % População (0-14 anos)  % População (15-64 anos)  \\\n",
       "73                  3131.0                    25.94                     69.94   \n",
       "10                  3501.0                    25.23                     69.94   \n",
       "115                 3430.0                    24.98                     69.45   \n",
       "\n",
       "     % População (> 64 anos)  Razão de Dependência  \\\n",
       "73                      4.12                 42.97   \n",
       "10                      4.83                 42.98   \n",
       "115                     5.57                 43.99   \n",
       "\n",
       "     Média de moradores por domicílio  Domicílio Total  \n",
       "73                               3.44            22105  \n",
       "10                               3.56            20343  \n",
       "115                              3.55            17356  "
      ]
     },
     "execution_count": 873,
     "metadata": {},
     "output_type": "execute_result"
    }
   ],
   "source": [
    "# create a new dataframe, that storage the larggest houses number with size = 10\n",
    "data_nlargerst_by_domicilio = data.sort_values(by='Domicílio Total', ascending=False).head(10)\n",
    "data_nlargerst_by_domicilio.head(3)"
   ]
  },
  {
   "cell_type": "code",
   "execution_count": 874,
   "id": "219a6048",
   "metadata": {},
   "outputs": [],
   "source": [
    "index = data_nlargerst_by_domicilio['Bairros']\n",
    "values = data_nlargerst_by_domicilio['Domicílio Total']"
   ]
  },
  {
   "cell_type": "markdown",
   "id": "339503a0",
   "metadata": {},
   "source": [
    "#### Creating graphic area using subplots with matplotlib.pyplot"
   ]
  },
  {
   "cell_type": "code",
   "execution_count": 875,
   "id": "79daf698",
   "metadata": {},
   "outputs": [
    {
     "data": {
      "text/plain": [
       "<Figure size 1080x576 with 0 Axes>"
      ]
     },
     "metadata": {},
     "output_type": "display_data"
    }
   ],
   "source": [
    "# Create graphic area for our visualization\n",
    "area_1 = plt.figure()"
   ]
  },
  {
   "cell_type": "code",
   "execution_count": 876,
   "id": "9cdb8f02",
   "metadata": {},
   "outputs": [],
   "source": [
    "gpc1 = area_1.add_subplot(1,2,1)\n",
    "gpc2 = area_1.add_subplot(1,2,2)"
   ]
  },
  {
   "cell_type": "code",
   "execution_count": 877,
   "id": "ae4c8bcc",
   "metadata": {},
   "outputs": [
    {
     "name": "stderr",
     "output_type": "stream",
     "text": [
      "C:\\Users\\engke\\AppData\\Local\\Temp/ipykernel_23260/3357556145.py:5: UserWarning: FixedFormatter should only be used together with FixedLocator\n",
      "  gpc2.set_xticklabels(index, rotation=45)\n"
     ]
    },
    {
     "data": {
      "image/png": "[encoded data removed]",
      "text/plain": [
       "<Figure size 1080x576 with 2 Axes>"
      ]
     },
     "execution_count": 877,
     "metadata": {},
     "output_type": "execute_result"
    }
   ],
   "source": [
    "gpc1.pie(values, labels=index, autopct='%1.1f%%')\n",
    "gpc1.set_title('TOP 10 MOST POPULOUS NEIGHBORHOODS')\n",
    "\n",
    "gpc2.bar(index, values, width=0.8, color='Pink')\n",
    "gpc2.set_xticklabels(index, rotation=45)\n",
    "gpc2.set_title('TOP 10 MOST POPULOUS NEIGHBORHOODS')\n",
    "\n",
    "area_1"
   ]
  },
  {
   "cell_type": "code",
   "execution_count": 878,
   "id": "d9e62670",
   "metadata": {},
   "outputs": [
    {
     "name": "stdout",
     "output_type": "stream",
     "text": [
      "['REGIONAL 6' 'REGIONAL 4' 'REGIONAL 2' 'REGIONAL 1' 'REGIONAL 3'\n",
      " 'REGIONAL 5']\n",
      "\n",
      " ['Aerolândia' 'Aeroporto' 'Aldeota' 'Alto da Balança' 'Álvaro Weyne'\n",
      " 'Amadeo Furtado' 'Ancuri' 'Antônio Bezerra' 'Arraial Moura Brasil'\n",
      " 'Autran Nunes' 'Barra do Ceará' 'Barroso' 'Bela Vista' 'Benfica'\n",
      " 'Boa Vista' 'Bom Futuro' 'Bom Jardim' 'Bonsucesso' 'Cais do Porto'\n",
      " 'Cajazeiras' 'Cambeba' 'Canindezinho' 'Carlito Pamplona' 'Centro'\n",
      " 'Cidade 2000' 'Cidade dos Funcionários' 'Coaçu' 'Cocó' 'Conjunto Ceará I'\n",
      " 'Conjunto Ceará II' 'Conjunto Esperança' 'Conjunto Palmeiras'\n",
      " 'Couto Fernandes' 'Cristo Redentor' 'Curió' 'Damas' 'De Lourdes'\n",
      " 'Demócrito Rocha' 'Dendê' 'Dias Macêdo' 'Dionísio Torres' 'Dom Lustosa'\n",
      " 'Edson Queiroz' 'Farias Brito' 'Fátima' 'Floresta' 'Genibaú'\n",
      " 'Granja Lisboa' 'Granja Portugal' 'Guajerú' 'Guararapes' 'Henrique Jorge'\n",
      " 'Itaoca' 'Itaperi' 'Jacarecanga' 'Jangurussu' 'Jardim América'\n",
      " 'Jardim Cearense' 'Jardim das Oliveiras' 'Jardim Guanabara'\n",
      " 'Jardim Iracema' 'João XXIII' 'Joaquim Távora' 'Jóquei Clube'\n",
      " 'José Bonifácio' 'José de Alencar' 'Lagoa Redonda' 'Luciano Cavalcante'\n",
      " 'Manoel Sátiro' 'Manuel Dias Branco' 'Maraponga' 'Meireles' 'Messejana'\n",
      " 'Mondubim' 'Monte Castelo' 'Montese' 'Mucuripe' 'Padre Andrade '\n",
      " 'Pan Americano' 'Papicu' 'Parangaba' 'Parque Araxá' 'Parque Dois Irmãos'\n",
      " 'Parque Iracema' 'Parque Manibura' 'Parque Presidente Vargas'\n",
      " 'Parque Santa Rosa' 'Parque São José' 'Parquelândia' 'Parreão' 'Passaré'\n",
      " 'Paupina' 'Pedras' 'Pici' 'Pirambú' 'Planalto Ayrton Senna'\n",
      " 'Praia de Iracema' 'Praia do Futuro I' 'Praia do Futuro II'\n",
      " 'Prefeito José Valter' 'Presidente Kennedy' 'Quintino Cunha'\n",
      " 'Rodolfo Teófilo' 'Sabiaguaba' 'Salinas' 'São Bento' 'São Gerardo'\n",
      " 'São João do Tauape' 'Sapiranga/Coité' 'Serrinha' 'Siqueira' 'Varjota'\n",
      " 'Vila Ellery' 'Vila Pery' 'Vila União' 'Vila Velha' 'Vincente Pinzon']\n"
     ]
    }
   ],
   "source": [
    "# Uniques type\n",
    "print(data.REGIONAL.unique())\n",
    "print('\\n',data.Bairros.unique())"
   ]
  },
  {
   "cell_type": "code",
   "execution_count": 879,
   "id": "8538f584",
   "metadata": {},
   "outputs": [
    {
     "name": "stdout",
     "output_type": "stream",
     "text": [
      "REGIONAL 6    28\n",
      "REGIONAL 2    21\n",
      "REGIONAL 4    19\n",
      "REGIONAL 5    18\n",
      "REGIONAL 3    16\n",
      "REGIONAL 1    15\n",
      "Name: REGIONAL, dtype: int64\n",
      "\n",
      " Aerolândia                  1\n",
      "Monte Castelo               1\n",
      "Parque Santa Rosa           1\n",
      "Parque Presidente Vargas    1\n",
      "Parque Manibura             1\n",
      "                           ..\n",
      "Damas                       1\n",
      "Curió                       1\n",
      "Cristo Redentor             1\n",
      "Couto Fernandes             1\n",
      "Vincente Pinzon             1\n",
      "Name: Bairros, Length: 117, dtype: int64\n"
     ]
    }
   ],
   "source": [
    "# Frequency of REGIONAL and Bairros\n",
    "print(data.REGIONAL.value_counts())\n",
    "print('\\n',data.Bairros.value_counts())"
   ]
  },
  {
   "cell_type": "code",
   "execution_count": 880,
   "id": "3cf12244",
   "metadata": {},
   "outputs": [],
   "source": [
    "regional_groups = data.groupby('REGIONAL')['Bairros']"
   ]
  },
  {
   "cell_type": "code",
   "execution_count": 881,
   "id": "613d6ab9",
   "metadata": {},
   "outputs": [
    {
     "data": {
      "text/plain": [
       "{'REGIONAL 1': [4, 8, 10, 22, 33, 43, 45, 54, 59, 60, 74, 94, 106, 112, 115], 'REGIONAL 2': [2, 18, 23, 24, 27, 36, 40, 50, 62, 67, 69, 71, 76, 79, 96, 97, 98, 104, 107, 111, 116], 'REGIONAL 3': [5, 7, 9, 12, 17, 41, 51, 61, 63, 77, 81, 88, 93, 100, 101, 102], 'REGIONAL 4': [1, 13, 15, 32, 35, 37, 38, 44, 52, 53, 56, 64, 75, 78, 80, 89, 109, 113, 114], 'REGIONAL 5': [16, 21, 28, 29, 30, 46, 47, 48, 57, 68, 70, 73, 85, 86, 87, 95, 99, 110], 'REGIONAL 6': [0, 3, 6, 11, 14, 19, 20, 25, 26, 31, 34, 39, 42, 49, 55, 58, 65, 66, 72, 82, 83, 84, 90, 91, 92, 103, 105, 108]}"
      ]
     },
     "execution_count": 881,
     "metadata": {},
     "output_type": "execute_result"
    }
   ],
   "source": [
    "regional_groups.groups"
   ]
  },
  {
   "cell_type": "code",
   "execution_count": 882,
   "id": "280408ee",
   "metadata": {},
   "outputs": [],
   "source": [
    "index = regional_groups.count().index\n",
    "values = regional_groups.count().values"
   ]
  },
  {
   "cell_type": "code",
   "execution_count": 883,
   "id": "e1398c6a",
   "metadata": {},
   "outputs": [
    {
     "data": {
      "image/png": "[encoded data removed]",
      "text/plain": [
       "<Figure size 1080x576 with 1 Axes>"
      ]
     },
     "metadata": {},
     "output_type": "display_data"
    }
   ],
   "source": [
    "plt.pie(values, labels=index, autopct='%1.1f%%')\n",
    "plt.title('Group 1: REGIONAL X Bairros (%)')\n",
    "plt.show()"
   ]
  },
  {
   "cell_type": "code",
   "execution_count": null,
   "id": "66873daf",
   "metadata": {},
   "outputs": [],
   "source": []
  }
 ],
 "metadata": {
  "kernelspec": {
   "display_name": "Python 3 (ipykernel)",
   "language": "python",
   "name": "python3"
  },
  "language_info": {
   "codemirror_mode": {
    "name": "ipython",
    "version": 3
   },
   "file_extension": ".py",
   "mimetype": "text/x-python",
   "name": "python",
   "nbconvert_exporter": "python",
   "pygments_lexer": "ipython3",
   "version": "3.9.7"
  }
 },
 "nbformat": 4,
 "nbformat_minor": 5
}
